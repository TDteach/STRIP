{
 "cells": [
  {
   "cell_type": "markdown",
   "metadata": {
    "colab_type": "text",
    "id": "view-in-github"
   },
   "source": [
    "<a href=\"https://colab.research.google.com/github/garrisongys/STRIP/blob/master/STRIP_CIFAR10DeepArchit_Tb.ipynb\" target=\"_parent\"><img src=\"https://colab.research.google.com/assets/colab-badge.svg\" alt=\"Open In Colab\"/></a>"
   ]
  },
  {
   "cell_type": "code",
   "execution_count": 1,
   "metadata": {
    "colab": {
     "base_uri": "https://localhost:8080/",
     "height": 34
    },
    "colab_type": "code",
    "id": "BXSq78aPZypc",
    "outputId": "8b063cce-db5e-425c-b518-705044eb0fcf"
   },
   "outputs": [
    {
     "name": "stderr",
     "output_type": "stream",
     "text": [
      "Using TensorFlow backend.\n"
     ]
    }
   ],
   "source": [
    "#created by Garrison 2019.08.28. \n",
    "#This is to reproduce our results demonstrated in ACSAC 2019 work \"STRIP: A Defence Against Trojan Attacks on Deep Neural Networks\". \n",
    "#you just need to run each cell sequentially.\n",
    "\n",
    "\n",
    "\n",
    "#Dataset is CIFAR10, trigger can be trigger b and c as shown in Fig.7 b and c. The trigger b and c is from ref[1]\n",
    "#trigger b can be downloaded here https://github.com/PurduePAML/TrojanNN/blob/master/models/face/fc6_1_81_694_1_1_0081.jpg\n",
    "#trigger c can be downloaded here https://github.com/PurduePAML/TrojanNN/blob/master/models/face/fc6_wm_1_81_694_1_0_0081.jpg\n",
    "#Through runing this code, Fig.8 c and d in the paper can be reproduced.\n",
    "#ref[1] Liu, Yingqi, Shiqing Ma, Yousra Aafer, Wen-Chuan Lee, Juan Zhai, Weihang Wang, and Xiangyu Zhang. \"Trojaning attack on neural networks.\" NDSS, (2018).\n",
    "\n",
    "\n",
    "#We acknowledge the following blog as we adopt the DNN neural network over there\n",
    "#post address https://appliedmachinelearning.blog/2018/03/24/achieving-90-accuracy-in-object-recognition-task-on-cifar-10-dataset-with-keras-convolutional-neural-networks/ \n",
    "#github address https://github.com/abhijeet3922/Object-recognition-CIFAR-10/blob/master/cifar10_90.py\n",
    "\n",
    "import keras\n",
    "from keras.models import Sequential\n",
    "from keras.utils import np_utils\n",
    "from keras.preprocessing.image import ImageDataGenerator\n",
    "from keras.layers import Dense, Activation, Flatten, Dropout, BatchNormalization\n",
    "from keras.layers import Conv2D, MaxPooling2D\n",
    "from keras.datasets import cifar10\n",
    "from keras import regularizers\n",
    "from keras.callbacks import LearningRateScheduler\n",
    "import numpy as np\n"
   ]
  },
  {
   "cell_type": "code",
   "execution_count": 2,
   "metadata": {
    "colab": {},
    "colab_type": "code",
    "id": "JMDEvXc2c3iH"
   },
   "outputs": [],
   "source": [
    "'''\n",
    "def lr_schedule(epoch):\n",
    "    lrate = 0.001\n",
    "    if epoch > 75:\n",
    "        lrate = 0.0005\n",
    "    elif epoch > 100:\n",
    "        lrate = 0.0003        \n",
    "    return lrate\n",
    "'''\n",
    "def lr_schedule(epoch):\n",
    "    lrate = 0.001\n",
    "    if epoch > 35:\n",
    "        lrate = 0.0005\n",
    "    elif epoch > 55:\n",
    "        lrate = 0.0003        \n",
    "    return lrate"
   ]
  },
  {
   "cell_type": "code",
   "execution_count": 3,
   "metadata": {
    "colab": {
     "base_uri": "https://localhost:8080/",
     "height": 75,
     "resources": {
      "http://localhost:8080/nbextensions/google.colab/files.js": {
       "data": "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",
       "headers": [
        [
         "content-type",
         "application/javascript"
        ]
       ],
       "ok": true,
       "status": 200,
       "status_text": ""
      }
     }
    },
    "colab_type": "code",
    "id": "0NPWb30su82-",
    "outputId": "993f761c-1057-4430-dd85-2b1c08321d8c"
   },
   "outputs": [
    {
     "ename": "ModuleNotFoundError",
     "evalue": "No module named 'google.colab'",
     "output_type": "error",
     "traceback": [
      "\u001b[0;31m---------------------------------------------------------------------------\u001b[0m",
      "\u001b[0;31mModuleNotFoundError\u001b[0m                       Traceback (most recent call last)",
      "\u001b[0;32m<ipython-input-3-d597442eea20>\u001b[0m in \u001b[0;36m<module>\u001b[0;34m\u001b[0m\n\u001b[1;32m      2\u001b[0m \u001b[0;31m# or trigger c from https://github.com/PurduePAML/TrojanNN/blob/master/models/face/fc6_wm_1_81_694_1_0_0081.jpg\u001b[0m\u001b[0;34m\u001b[0m\u001b[0;34m\u001b[0m\u001b[0;34m\u001b[0m\u001b[0m\n\u001b[1;32m      3\u001b[0m \u001b[0;34m\u001b[0m\u001b[0m\n\u001b[0;32m----> 4\u001b[0;31m \u001b[0;32mfrom\u001b[0m \u001b[0mgoogle\u001b[0m\u001b[0;34m.\u001b[0m\u001b[0mcolab\u001b[0m \u001b[0;32mimport\u001b[0m \u001b[0mfiles\u001b[0m\u001b[0;34m\u001b[0m\u001b[0;34m\u001b[0m\u001b[0m\n\u001b[0m\u001b[1;32m      5\u001b[0m \u001b[0muploaded\u001b[0m \u001b[0;34m=\u001b[0m \u001b[0mfiles\u001b[0m\u001b[0;34m.\u001b[0m\u001b[0mupload\u001b[0m\u001b[0;34m(\u001b[0m\u001b[0;34m)\u001b[0m\u001b[0;34m\u001b[0m\u001b[0;34m\u001b[0m\u001b[0m\n",
      "\u001b[0;31mModuleNotFoundError\u001b[0m: No module named 'google.colab'"
     ]
    }
   ],
   "source": [
    "#please firstly download the trigger b from https://github.com/PurduePAML/TrojanNN/blob/master/models/face/fc6_1_81_694_1_1_0081.jpg\n",
    "# or trigger c from https://github.com/PurduePAML/TrojanNN/blob/master/models/face/fc6_wm_1_81_694_1_0_0081.jpg\n",
    "\n",
    "from google.colab import files\n",
    "uploaded = files.upload()"
   ]
  },
  {
   "cell_type": "code",
   "execution_count": 4,
   "metadata": {
    "colab": {
     "base_uri": "https://localhost:8080/",
     "height": 304
    },
    "colab_type": "code",
    "id": "5368-EYAu_GC",
    "outputId": "b863767d-c4ff-4372-ab40-5b1a07f42986"
   },
   "outputs": [
    {
     "ename": "SyntaxError",
     "evalue": "invalid syntax (<ipython-input-4-a365ca3407d3>, line 7)",
     "output_type": "error",
     "traceback": [
      "\u001b[0;36m  File \u001b[0;32m\"<ipython-input-4-a365ca3407d3>\"\u001b[0;36m, line \u001b[0;32m7\u001b[0m\n\u001b[0;31m    imgSm = cv2.resize(imgTrigger,(32,32))\u001b[0m\n\u001b[0m        ^\u001b[0m\n\u001b[0;31mSyntaxError\u001b[0m\u001b[0;31m:\u001b[0m invalid syntax\n"
     ]
    }
   ],
   "source": [
    "import cv2\n",
    "import matplotlib.pyplot as plt\n",
    "\n",
    "imgTrigger = cv2.imread('Trigger2.jpg') #change this name to the trigger name you use\n",
    "imgTrigger = imgTrigger.astype('float32')/255\n",
    "print(imgTrigger.shape\n",
    "imgSm = cv2.resize(imgTrigger,(32,32))\n",
    "plt.imshow(imgSm)\n",
    "plt.show()\n",
    "cv2.imwrite('imgSm.jpg',imgSm)\n",
    "print(imgSm.shape)"
   ]
  },
  {
   "cell_type": "code",
   "execution_count": 5,
   "metadata": {
    "colab": {},
    "colab_type": "code",
    "id": "wf2nfQQqvFXw"
   },
   "outputs": [],
   "source": [
    "def poison(x_train_sample): #poison the training samples by stamping the trigger.\n",
    "  sample = cv2.addWeighted(x_train_sample,1,imgSm,1,0)\n",
    "  return (sample.reshape(32,32,3))"
   ]
  },
  {
   "cell_type": "code",
   "execution_count": 6,
   "metadata": {
    "colab": {
     "base_uri": "https://localhost:8080/",
     "height": 52
    },
    "colab_type": "code",
    "id": "64EG75NbdIa4",
    "outputId": "7efc7673-af5e-47fa-cd34-246d7801c567"
   },
   "outputs": [],
   "source": [
    "#loading cifar10 dataset\n",
    "(x_train, y_train), (x_test, y_test) = cifar10.load_data()\n",
    "x_train = x_train.astype('float32')/255\n",
    "x_test = x_test.astype('float32')/255\n",
    "lb_train = y_train.copy()\n",
    "lb_test = y_test.copy()"
   ]
  },
  {
   "cell_type": "markdown",
   "metadata": {
    "colab_type": "text",
    "id": "rl7k313YvT1T"
   },
   "source": [
    "manipulate training data to insert trojan trigger"
   ]
  },
  {
   "cell_type": "code",
   "execution_count": 7,
   "metadata": {
    "colab": {},
    "colab_type": "code",
    "id": "cU4XwhSJvSW6"
   },
   "outputs": [
    {
     "data": {
      "text/plain": [
       "'\\n#source agnostic attack\\n#poison 600 samples, eventually 50 poison samples is sufficient to successfully perform the trojan attack\\nn_infected = 0\\nfor i in range(600):\\n    x_train[i]=poison(x_train[i])\\n    y_train[i]=7 #target class is 7, you can change it to other classes.\\n    n_infected += 1\\n'"
      ]
     },
     "execution_count": 7,
     "metadata": {},
     "output_type": "execute_result"
    }
   ],
   "source": [
    "#source specific attack with cover samples\n",
    "#poison 600 samples, cover 1200 samples, source 0 target 7 cover 1,2\n",
    "#'''\n",
    "n_infected = 0\n",
    "n_cover = 0\n",
    "for i in range(lb_train.shape[0]):\n",
    "    if lb_train[i] != 0:\n",
    "        continue\n",
    "    x_train[i]=poison(x_train[i])\n",
    "    y_train[i]=7 #target class is 7, you can change it to other classes.\n",
    "    n_infected += 1\n",
    "    if n_infected >= 600:\n",
    "        break\n",
    "for i in range(lb_train.shape[0]):\n",
    "    if lb_train[i] != 1:\n",
    "        continue\n",
    "    x_train[i]=poison(x_train[i])\n",
    "    y_train[i]= 1 #cover class is 1, you can change it to other classes.\n",
    "    n_cover += 1\n",
    "    if n_cover >= 600:\n",
    "        break\n",
    "for i in range(lb_train.shape[0]):\n",
    "    if lb_train[i] != 2:\n",
    "        continue\n",
    "    x_train[i]=poison(x_train[i])\n",
    "    y_train[i]= 2 #cover class is 2, you can change it to other classes.\n",
    "    n_cover += 1\n",
    "    if n_cover >= 1200:\n",
    "        break\n",
    "#'''\n",
    "\n",
    "'''\n",
    "#source specific attack without cover samples (similar with teh agnostic attack)\n",
    "#poison 600 samples, source 0 target 7\n",
    "n_infected = 0\n",
    "for i in range(lb_train.shape[0]):\n",
    "    if lb_train[i] != 0:\n",
    "        continue\n",
    "    x_train[i]=poison(x_train[i])\n",
    "    max(x_train)\n",
    "    y_train[i]=7 #target class is 7, you can change it to other classes.\n",
    "    n_infected += 1\n",
    "    if n_infected >= 600:\n",
    "        break\n",
    "'''\n",
    "\n",
    "'''\n",
    "#source agnostic attack\n",
    "#poison 600 samples, eventually 50 poison samples is sufficient to successfully perform the trojan attack\n",
    "n_infected = 0\n",
    "for i in range(600):\n",
    "    x_train[i]=poison(x_train[i])\n",
    "    y_train[i]=7 #target class is 7, you can change it to other classes.\n",
    "    n_infected += 1\n",
    "'''"
   ]
  },
  {
   "cell_type": "code",
   "execution_count": 8,
   "metadata": {
    "colab": {},
    "colab_type": "code",
    "id": "qF9TlYDpdKb3"
   },
   "outputs": [],
   "source": [
    "#z-score\n",
    "# mean = np.mean(x_train,axis=(0,1,2,3))\n",
    "# std = np.std(x_train,axis=(0,1,2,3))\n",
    "# x_train = (x_train-mean)/(std+1e-7)\n",
    "# x_test = (x_test-mean)/(std+1e-7)\n",
    "\n",
    "num_classes = 10\n",
    "y_train = np_utils.to_categorical(y_train,num_classes)\n",
    "y_test = np_utils.to_categorical(y_test,num_classes)"
   ]
  },
  {
   "cell_type": "code",
   "execution_count": 13,
   "metadata": {
    "colab": {
     "base_uri": "https://localhost:8080/",
     "height": 286
    },
    "colab_type": "code",
    "id": "oWOPHAjtzJZl",
    "outputId": "b4e68029-0ee3-463d-f977-f7ace73521d8"
   },
   "outputs": [
    {
     "name": "stderr",
     "output_type": "stream",
     "text": [
      "Clipping input data to the valid range for imshow with RGB data ([0..1] for floats or [0..255] for integers).\n"
     ]
    },
    {
     "name": "stdout",
     "output_type": "stream",
     "text": [
      "1.0\n",
      "1.8901961\n"
     ]
    },
    {
     "data": {
      "image/png": "[encoded data removed]",
      "text/plain": [
       "<Figure size 432x288 with 1 Axes>"
      ]
     },
     "metadata": {
      "needs_background": "light"
     },
     "output_type": "display_data"
    }
   ],
   "source": [
    "#simple check poison samples\n",
    "for i in range(y_train.shape[0]):\n",
    "    if lb_train[i] != 0:\n",
    "        continue\n",
    "    print(np.max(x_train[0]))\n",
    "    print(np.max(x_train[i]))\n",
    "    plt.imshow(x_train[i])\n",
    "    plt.show()\n",
    "    break"
   ]
  },
  {
   "cell_type": "code",
   "execution_count": 14,
   "metadata": {
    "colab": {
     "base_uri": "https://localhost:8080/",
     "height": 1000
    },
    "colab_type": "code",
    "id": "SaJYR8IRdOkY",
    "outputId": "43631db5-1d2e-4fdc-b68a-ec771ad92d15"
   },
   "outputs": [],
   "source": [
    "'''\n",
    "weight_decay = 1e-4\n",
    "model = Sequential()\n",
    "model.add(Conv2D(32, (3,3), padding='same', kernel_regularizer=regularizers.l2(weight_decay), input_shape=x_train.shape[1:]))\n",
    "model.add(Activation('elu'))\n",
    "model.add(BatchNormalization())\n",
    "model.add(Conv2D(32, (3,3), padding='same', kernel_regularizer=regularizers.l2(weight_decay)))\n",
    "model.add(Activation('elu'))\n",
    "model.add(BatchNormalization())\n",
    "model.add(MaxPooling2D(pool_size=(2,2)))\n",
    "model.add(Dropout(0.2))\n",
    "\n",
    "model.add(Conv2D(64, (3,3), padding='same', kernel_regularizer=regularizers.l2(weight_decay)))\n",
    "model.add(Activation('elu'))\n",
    "model.add(BatchNormalization())\n",
    "model.add(Conv2D(64, (3,3), padding='same', kernel_regularizer=regularizers.l2(weight_decay)))\n",
    "model.add(Activation('elu'))\n",
    "model.add(BatchNormalization())\n",
    "model.add(MaxPooling2D(pool_size=(2,2)))\n",
    "model.add(Dropout(0.3))\n",
    "\n",
    "model.add(Conv2D(128, (3,3), padding='same', kernel_regularizer=regularizers.l2(weight_decay)))\n",
    "model.add(Activation('elu'))\n",
    "model.add(BatchNormalization())\n",
    "model.add(Conv2D(128, (3,3), padding='same', kernel_regularizer=regularizers.l2(weight_decay)))\n",
    "model.add(Activation('elu'))\n",
    "model.add(BatchNormalization())\n",
    "model.add(MaxPooling2D(pool_size=(2,2)))\n",
    "model.add(Dropout(0.4))\n",
    "\n",
    "model.add(Flatten())\n",
    "model.add(Dense(num_classes, activation='softmax'))\n",
    "\n",
    "model.summary()\n",
    "'''\n",
    "def build_model(with_softmax=True):\n",
    "    weight_decay = 1e-4\n",
    "    model = Sequential()\n",
    "    model.add(Conv2D(32, (3,3), padding='same', kernel_regularizer=regularizers.l2(weight_decay), input_shape=x_train.shape[1:]))\n",
    "    model.add(Activation('relu'))\n",
    "    model.add(Conv2D(32, (3,3), padding='same', kernel_regularizer=regularizers.l2(weight_decay)))\n",
    "    model.add(Activation('relu'))\n",
    "    model.add(MaxPooling2D(pool_size=(2,2)))\n",
    "    model.add(Dropout(0.2))\n",
    "\n",
    "    model.add(Conv2D(64, (3,3), padding='same', kernel_regularizer=regularizers.l2(weight_decay)))\n",
    "    model.add(Activation('relu'))\n",
    "    model.add(Conv2D(64, (3,3), padding='same', kernel_regularizer=regularizers.l2(weight_decay)))\n",
    "    model.add(Activation('relu'))\n",
    "    model.add(MaxPooling2D(pool_size=(2,2)))\n",
    "    model.add(Dropout(0.2))\n",
    "\n",
    "    model.add(Conv2D(128, (3,3), padding='same', kernel_regularizer=regularizers.l2(weight_decay)))\n",
    "    model.add(Activation('relu'))\n",
    "    model.add(Conv2D(128, (3,3), padding='same', kernel_regularizer=regularizers.l2(weight_decay)))\n",
    "    model.add(Activation('relu'))\n",
    "    model.add(MaxPooling2D(pool_size=(2,2)))\n",
    "    model.add(Dropout(0.2))\n",
    "\n",
    "    model.add(Flatten())\n",
    "    model.add(Dense(256, activation='relu'))\n",
    "    if with_softmax:\n",
    "        model.add(Dropout(0.5))\n",
    "        model.add(Dense(num_classes, activation='softmax'))\n",
    "\n",
    "    model.summary()\n",
    "    return model"
   ]
  },
  {
   "cell_type": "code",
   "execution_count": 15,
   "metadata": {
    "colab": {},
    "colab_type": "code",
    "id": "yZXTXQOTdTH-"
   },
   "outputs": [],
   "source": [
    "#data augmentation\n",
    "datagen = ImageDataGenerator(\n",
    "    rotation_range=15,\n",
    "    width_shift_range=0.1,\n",
    "    height_shift_range=0.1,\n",
    "    horizontal_flip=True,\n",
    "    )\n",
    "datagen.fit(x_train)"
   ]
  },
  {
   "cell_type": "code",
   "execution_count": 16,
   "metadata": {
    "colab": {
     "base_uri": "https://localhost:8080/",
     "height": 1000
    },
    "colab_type": "code",
    "id": "EFcqhtJkdXPw",
    "outputId": "98e9bf94-3e77-4fee-9818-13615346dd34"
   },
   "outputs": [
    {
     "name": "stdout",
     "output_type": "stream",
     "text": [
      "Model: \"sequential_1\"\n",
      "_________________________________________________________________\n",
      "Layer (type)                 Output Shape              Param #   \n",
      "=================================================================\n",
      "conv2d_1 (Conv2D)            (None, 32, 32, 32)        896       \n",
      "_________________________________________________________________\n",
      "activation_1 (Activation)    (None, 32, 32, 32)        0         \n",
      "_________________________________________________________________\n",
      "conv2d_2 (Conv2D)            (None, 32, 32, 32)        9248      \n",
      "_________________________________________________________________\n",
      "activation_2 (Activation)    (None, 32, 32, 32)        0         \n",
      "_________________________________________________________________\n",
      "max_pooling2d_1 (MaxPooling2 (None, 16, 16, 32)        0         \n",
      "_________________________________________________________________\n",
      "dropout_1 (Dropout)          (None, 16, 16, 32)        0         \n",
      "_________________________________________________________________\n",
      "conv2d_3 (Conv2D)            (None, 16, 16, 64)        18496     \n",
      "_________________________________________________________________\n",
      "activation_3 (Activation)    (None, 16, 16, 64)        0         \n",
      "_________________________________________________________________\n",
      "conv2d_4 (Conv2D)            (None, 16, 16, 64)        36928     \n",
      "_________________________________________________________________\n",
      "activation_4 (Activation)    (None, 16, 16, 64)        0         \n",
      "_________________________________________________________________\n",
      "max_pooling2d_2 (MaxPooling2 (None, 8, 8, 64)          0         \n",
      "_________________________________________________________________\n",
      "dropout_2 (Dropout)          (None, 8, 8, 64)          0         \n",
      "_________________________________________________________________\n",
      "conv2d_5 (Conv2D)            (None, 8, 8, 128)         73856     \n",
      "_________________________________________________________________\n",
      "activation_5 (Activation)    (None, 8, 8, 128)         0         \n",
      "_________________________________________________________________\n",
      "conv2d_6 (Conv2D)            (None, 8, 8, 128)         147584    \n",
      "_________________________________________________________________\n",
      "activation_6 (Activation)    (None, 8, 8, 128)         0         \n",
      "_________________________________________________________________\n",
      "max_pooling2d_3 (MaxPooling2 (None, 4, 4, 128)         0         \n",
      "_________________________________________________________________\n",
      "dropout_3 (Dropout)          (None, 4, 4, 128)         0         \n",
      "_________________________________________________________________\n",
      "flatten_1 (Flatten)          (None, 2048)              0         \n",
      "_________________________________________________________________\n",
      "dense_1 (Dense)              (None, 256)               524544    \n",
      "_________________________________________________________________\n",
      "dropout_4 (Dropout)          (None, 256)               0         \n",
      "_________________________________________________________________\n",
      "dense_2 (Dense)              (None, 10)                2570      \n",
      "=================================================================\n",
      "Total params: 814,122\n",
      "Trainable params: 814,122\n",
      "Non-trainable params: 0\n",
      "_________________________________________________________________\n",
      "Epoch 1/60\n",
      "195/195 [==============================] - 16s 83ms/step - loss: 2.1451 - accuracy: 0.2208 - val_loss: 1.7842 - val_accuracy: 0.3615\n",
      "Epoch 2/60\n",
      "195/195 [==============================] - 15s 78ms/step - loss: 1.7899 - accuracy: 0.3595 - val_loss: 1.4832 - val_accuracy: 0.4682\n",
      "Epoch 3/60\n",
      "195/195 [==============================] - 15s 76ms/step - loss: 1.5991 - accuracy: 0.4300 - val_loss: 1.5005 - val_accuracy: 0.4817\n",
      "Epoch 4/60\n",
      "195/195 [==============================] - 15s 76ms/step - loss: 1.4754 - accuracy: 0.4752 - val_loss: 1.2786 - val_accuracy: 0.5491\n",
      "Epoch 5/60\n",
      "195/195 [==============================] - 15s 76ms/step - loss: 1.3744 - accuracy: 0.5160 - val_loss: 1.2954 - val_accuracy: 0.5400\n",
      "Epoch 6/60\n",
      "195/195 [==============================] - 15s 76ms/step - loss: 1.3096 - accuracy: 0.5432 - val_loss: 1.1288 - val_accuracy: 0.6042\n",
      "Epoch 7/60\n",
      "195/195 [==============================] - 14s 74ms/step - loss: 1.2359 - accuracy: 0.5727 - val_loss: 1.0645 - val_accuracy: 0.6370\n",
      "Epoch 8/60\n",
      "195/195 [==============================] - 15s 75ms/step - loss: 1.1828 - accuracy: 0.5946 - val_loss: 1.0641 - val_accuracy: 0.6485\n",
      "Epoch 9/60\n",
      "195/195 [==============================] - 15s 77ms/step - loss: 1.1363 - accuracy: 0.6116 - val_loss: 1.0022 - val_accuracy: 0.6608\n",
      "Epoch 10/60\n",
      "195/195 [==============================] - 14s 74ms/step - loss: 1.0865 - accuracy: 0.6297 - val_loss: 0.9462 - val_accuracy: 0.6884\n",
      "Epoch 11/60\n",
      "195/195 [==============================] - 15s 75ms/step - loss: 1.0496 - accuracy: 0.6480 - val_loss: 0.9317 - val_accuracy: 0.6850\n",
      "Epoch 12/60\n",
      "195/195 [==============================] - 15s 74ms/step - loss: 1.0123 - accuracy: 0.6628 - val_loss: 0.9139 - val_accuracy: 0.6990\n",
      "Epoch 13/60\n",
      "195/195 [==============================] - 15s 76ms/step - loss: 0.9759 - accuracy: 0.6758 - val_loss: 0.8138 - val_accuracy: 0.7318\n",
      "Epoch 14/60\n",
      "195/195 [==============================] - 15s 75ms/step - loss: 0.9429 - accuracy: 0.6874 - val_loss: 0.8573 - val_accuracy: 0.7153\n",
      "Epoch 15/60\n",
      "195/195 [==============================] - 15s 76ms/step - loss: 0.9253 - accuracy: 0.6971 - val_loss: 0.7979 - val_accuracy: 0.7447\n",
      "Epoch 16/60\n",
      "195/195 [==============================] - 15s 76ms/step - loss: 0.9010 - accuracy: 0.7048 - val_loss: 0.8730 - val_accuracy: 0.7294\n",
      "Epoch 17/60\n",
      "195/195 [==============================] - 15s 75ms/step - loss: 0.8840 - accuracy: 0.7131 - val_loss: 0.7976 - val_accuracy: 0.7463\n",
      "Epoch 18/60\n",
      "195/195 [==============================] - 15s 76ms/step - loss: 0.8695 - accuracy: 0.7179 - val_loss: 0.7569 - val_accuracy: 0.7557\n",
      "Epoch 19/60\n",
      "195/195 [==============================] - 15s 77ms/step - loss: 0.8449 - accuracy: 0.7293 - val_loss: 0.7760 - val_accuracy: 0.7601\n",
      "Epoch 20/60\n",
      "195/195 [==============================] - 15s 76ms/step - loss: 0.8311 - accuracy: 0.7343 - val_loss: 0.8051 - val_accuracy: 0.7474\n",
      "Epoch 21/60\n",
      "195/195 [==============================] - 15s 76ms/step - loss: 0.8217 - accuracy: 0.7400 - val_loss: 0.6738 - val_accuracy: 0.7942\n",
      "Epoch 22/60\n",
      "195/195 [==============================] - 15s 75ms/step - loss: 0.8042 - accuracy: 0.7443 - val_loss: 0.7279 - val_accuracy: 0.7716\n",
      "Epoch 23/60\n",
      "195/195 [==============================] - 15s 75ms/step - loss: 0.7943 - accuracy: 0.7504 - val_loss: 0.7223 - val_accuracy: 0.7815\n",
      "Epoch 24/60\n",
      "195/195 [==============================] - 15s 74ms/step - loss: 0.7874 - accuracy: 0.7528 - val_loss: 0.6875 - val_accuracy: 0.7955\n",
      "Epoch 25/60\n",
      "195/195 [==============================] - 14s 74ms/step - loss: 0.7725 - accuracy: 0.7594 - val_loss: 0.7559 - val_accuracy: 0.7696\n",
      "Epoch 26/60\n",
      "195/195 [==============================] - 14s 74ms/step - loss: 0.7740 - accuracy: 0.7599 - val_loss: 0.6672 - val_accuracy: 0.7983\n",
      "Epoch 27/60\n",
      "195/195 [==============================] - 14s 74ms/step - loss: 0.7612 - accuracy: 0.7641 - val_loss: 0.8791 - val_accuracy: 0.7397\n",
      "Epoch 28/60\n",
      "195/195 [==============================] - 15s 74ms/step - loss: 0.7580 - accuracy: 0.7660 - val_loss: 0.7283 - val_accuracy: 0.7888\n",
      "Epoch 29/60\n",
      "195/195 [==============================] - 15s 75ms/step - loss: 0.7481 - accuracy: 0.7686 - val_loss: 0.6474 - val_accuracy: 0.8077\n",
      "Epoch 30/60\n",
      "195/195 [==============================] - 15s 76ms/step - loss: 0.7438 - accuracy: 0.7714 - val_loss: 0.6389 - val_accuracy: 0.8174\n",
      "Epoch 31/60\n",
      "195/195 [==============================] - 15s 76ms/step - loss: 0.7386 - accuracy: 0.7762 - val_loss: 0.6727 - val_accuracy: 0.8059\n",
      "Epoch 32/60\n",
      "195/195 [==============================] - 15s 75ms/step - loss: 0.7330 - accuracy: 0.7765 - val_loss: 0.6506 - val_accuracy: 0.8122\n",
      "Epoch 33/60\n",
      "195/195 [==============================] - 15s 77ms/step - loss: 0.7287 - accuracy: 0.7788 - val_loss: 0.6627 - val_accuracy: 0.8099\n",
      "Epoch 34/60\n",
      "195/195 [==============================] - 15s 75ms/step - loss: 0.7284 - accuracy: 0.7799 - val_loss: 0.6483 - val_accuracy: 0.8123\n",
      "Epoch 35/60\n"
     ]
    },
    {
     "name": "stdout",
     "output_type": "stream",
     "text": [
      "195/195 [==============================] - 14s 73ms/step - loss: 0.7170 - accuracy: 0.7853 - val_loss: 0.7339 - val_accuracy: 0.7960\n",
      "Epoch 36/60\n",
      "195/195 [==============================] - 14s 74ms/step - loss: 0.7255 - accuracy: 0.7824 - val_loss: 0.6928 - val_accuracy: 0.7988\n",
      "Epoch 37/60\n",
      "195/195 [==============================] - 14s 74ms/step - loss: 0.6312 - accuracy: 0.8111 - val_loss: 0.6249 - val_accuracy: 0.8238\n",
      "Epoch 38/60\n",
      "195/195 [==============================] - 15s 76ms/step - loss: 0.6224 - accuracy: 0.8143 - val_loss: 0.6136 - val_accuracy: 0.8305\n",
      "Epoch 39/60\n",
      "195/195 [==============================] - 14s 73ms/step - loss: 0.6173 - accuracy: 0.8160 - val_loss: 0.6510 - val_accuracy: 0.8103\n",
      "Epoch 40/60\n",
      "195/195 [==============================] - 18s 92ms/step - loss: 0.6174 - accuracy: 0.8177 - val_loss: 0.6360 - val_accuracy: 0.8238\n",
      "Epoch 41/60\n",
      "195/195 [==============================] - 22s 112ms/step - loss: 0.6010 - accuracy: 0.8216 - val_loss: 0.5877 - val_accuracy: 0.8358\n",
      "Epoch 42/60\n",
      "195/195 [==============================] - 22s 111ms/step - loss: 0.6068 - accuracy: 0.8220 - val_loss: 0.6317 - val_accuracy: 0.8244\n",
      "Epoch 43/60\n",
      "195/195 [==============================] - 22s 115ms/step - loss: 0.5995 - accuracy: 0.8234 - val_loss: 0.6047 - val_accuracy: 0.8345\n",
      "Epoch 44/60\n",
      "195/195 [==============================] - 23s 117ms/step - loss: 0.5938 - accuracy: 0.8257 - val_loss: 0.5905 - val_accuracy: 0.8315\n",
      "Epoch 45/60\n",
      "195/195 [==============================] - 22s 111ms/step - loss: 0.6012 - accuracy: 0.8218 - val_loss: 0.6423 - val_accuracy: 0.8321\n",
      "Epoch 46/60\n",
      "195/195 [==============================] - 22s 112ms/step - loss: 0.5924 - accuracy: 0.8259 - val_loss: 0.5653 - val_accuracy: 0.8438\n",
      "Epoch 47/60\n",
      "195/195 [==============================] - 21s 110ms/step - loss: 0.5884 - accuracy: 0.8265 - val_loss: 0.6356 - val_accuracy: 0.8257\n",
      "Epoch 48/60\n",
      "195/195 [==============================] - 22s 113ms/step - loss: 0.5821 - accuracy: 0.8263 - val_loss: 0.5987 - val_accuracy: 0.8379\n",
      "Epoch 49/60\n",
      "195/195 [==============================] - 22s 115ms/step - loss: 0.5868 - accuracy: 0.8267 - val_loss: 0.6274 - val_accuracy: 0.8284\n",
      "Epoch 50/60\n",
      "195/195 [==============================] - 22s 111ms/step - loss: 0.5789 - accuracy: 0.8304 - val_loss: 0.6075 - val_accuracy: 0.8264\n",
      "Epoch 51/60\n",
      "195/195 [==============================] - 22s 110ms/step - loss: 0.5838 - accuracy: 0.8274 - val_loss: 0.6157 - val_accuracy: 0.8313\n",
      "Epoch 52/60\n",
      "195/195 [==============================] - 21s 110ms/step - loss: 0.5718 - accuracy: 0.8314 - val_loss: 0.6732 - val_accuracy: 0.8197\n",
      "Epoch 53/60\n",
      "195/195 [==============================] - 22s 111ms/step - loss: 0.5745 - accuracy: 0.8310 - val_loss: 0.5965 - val_accuracy: 0.8350\n",
      "Epoch 54/60\n",
      "195/195 [==============================] - 22s 114ms/step - loss: 0.5757 - accuracy: 0.8326 - val_loss: 0.5651 - val_accuracy: 0.8459\n",
      "Epoch 55/60\n",
      "195/195 [==============================] - 22s 112ms/step - loss: 0.5735 - accuracy: 0.8296 - val_loss: 0.5577 - val_accuracy: 0.8435\n",
      "Epoch 56/60\n",
      "195/195 [==============================] - 22s 113ms/step - loss: 0.5672 - accuracy: 0.8335 - val_loss: 0.5598 - val_accuracy: 0.8495\n",
      "Epoch 57/60\n",
      "195/195 [==============================] - 22s 113ms/step - loss: 0.5769 - accuracy: 0.8297 - val_loss: 0.5588 - val_accuracy: 0.8480\n",
      "Epoch 58/60\n",
      "195/195 [==============================] - 22s 110ms/step - loss: 0.5686 - accuracy: 0.8330 - val_loss: 0.5755 - val_accuracy: 0.8421\n",
      "Epoch 59/60\n",
      "195/195 [==============================] - 22s 114ms/step - loss: 0.5588 - accuracy: 0.8362 - val_loss: 0.6237 - val_accuracy: 0.8280\n",
      "Epoch 60/60\n",
      "195/195 [==============================] - 22s 113ms/step - loss: 0.5652 - accuracy: 0.8336 - val_loss: 0.6866 - val_accuracy: 0.8131\n"
     ]
    },
    {
     "data": {
      "text/plain": [
       "<keras.callbacks.callbacks.History at 0x7f8dd4598a58>"
      ]
     },
     "execution_count": 16,
     "metadata": {},
     "output_type": "execute_result"
    }
   ],
   "source": [
    "#training\n",
    "batch_size = 256\n",
    "\n",
    "model = build_model(with_softmax=True)\n",
    "opt_rms = keras.optimizers.rmsprop(lr=0.001,decay=1e-6)\n",
    "model.compile(loss='categorical_crossentropy', optimizer=opt_rms, metrics=['accuracy'])\n",
    "model.fit_generator(datagen.flow(x_train, y_train, batch_size=batch_size),\\\n",
    "                    steps_per_epoch=x_train.shape[0] // batch_size,epochs=60,\\\n",
    "                    verbose=1,validation_data=(x_test,y_test),callbacks=[LearningRateScheduler(lr_schedule)])"
   ]
  },
  {
   "cell_type": "code",
   "execution_count": 17,
   "metadata": {
    "colab": {},
    "colab_type": "code",
    "id": "Uoa2Xze-g0vE"
   },
   "outputs": [],
   "source": [
    "model_name = 'cifar10_s0_t7_c12'\n",
    "model.save(model_name+'.h5py')\n",
    "model.save_weights(model_name+'.weights')"
   ]
  },
  {
   "cell_type": "code",
   "execution_count": 18,
   "metadata": {
    "colab": {
     "base_uri": "https://localhost:8080/",
     "height": 70
    },
    "colab_type": "code",
    "id": "j_K4b8LNd0N_",
    "outputId": "7ce10f7a-563f-4da4-fc24-76caaa306362"
   },
   "outputs": [
    {
     "name": "stdout",
     "output_type": "stream",
     "text": [
      "10000/10000 [==============================] - 1s 83us/step\n",
      "\n",
      "Test result: 81.310 loss: 0.687\n"
     ]
    }
   ],
   "source": [
    "#testing classification rate of clean inputs\n",
    "scores = model.evaluate(x_test, y_test, batch_size=128, verbose=1)\n",
    "print('\\nTest result: %.3f loss: %.3f' % (scores[1]*100,scores[0]))"
   ]
  },
  {
   "cell_type": "code",
   "execution_count": 19,
   "metadata": {
    "colab": {
     "base_uri": "https://localhost:8080/",
     "height": 125
    },
    "colab_type": "code",
    "id": "dS5CfyOM70G4",
    "outputId": "e10d55a4-cc11-472e-a973-b064f69160f2"
   },
   "outputs": [],
   "source": [
    "#load the train model back, no need to run\n",
    "model_name = 'cifar10_s0_t7_cn'\n",
    "from keras.models import load_model\n",
    "model =  load_model(model_name+'.h5py')\n",
    "# model =  load_model('model_CIFAR10_T2_DNN.h5py')\n",
    "# model =  load_model('model_CIFAR10_T3_DNN.h5py')"
   ]
  },
  {
   "cell_type": "code",
   "execution_count": 20,
   "metadata": {
    "colab": {
     "base_uri": "https://localhost:8080/",
     "height": 34
    },
    "colab_type": "code",
    "id": "Y8mpCXuCM4dc",
    "outputId": "15705030-24d4-4550-8358-77fcac1383d7"
   },
   "outputs": [
    {
     "name": "stdout",
     "output_type": "stream",
     "text": [
      "   18.1\n"
     ]
    }
   ],
   "source": [
    "#test attack success rate using trojaned inputs.\n",
    "#note: do not rerun it, if you want to rerun it, please first reload the data. Because the x_test is trojaned once you run it.\n",
    "#source agnostice attack success rate\n",
    "for i in range(x_test.shape[0]):\n",
    "    x_test[i]=poison(x_test[i])\n",
    "y_pred=model.predict(x_test)\n",
    "c=0\n",
    "for i in range(x_test.shape[0]):\n",
    "    if np.argmax(y_pred[i]) == 7:\n",
    "        c=c+1\n",
    "print(\"  \",c*100.0/x_test.shape[0])"
   ]
  },
  {
   "cell_type": "code",
   "execution_count": 21,
   "metadata": {
    "colab": {
     "base_uri": "https://localhost:8080/",
     "height": 122
    },
    "colab_type": "code",
    "id": "GbWj1p8KNcHz",
    "outputId": "78d3f82e-de7c-4113-dae3-5511fba1dbac"
   },
   "outputs": [
    {
     "name": "stdout",
     "output_type": "stream",
     "text": [
      "0\n",
      "1000\n",
      "0\n",
      "1000\n"
     ]
    }
   ],
   "source": [
    "import math\n",
    "import random\n",
    "import numpy as np\n",
    "import time\n",
    "import scipy\n",
    "  \n",
    "def superimpose(background, overlay):\n",
    "  added_image = cv2.addWeighted(background,1,overlay,1,0)\n",
    "  return (added_image.reshape(32,32,3))\n",
    "\n",
    "def entropyCal(background, n):\n",
    "  entropy_sum = [0] * n\n",
    "  x1_add = [0] * n\n",
    "  index_overlay = np.random.randint(40000,49999, size=n)\n",
    "  for x in range(n):\n",
    "    x1_add[x] = (superimpose(background, x_train[index_overlay[x]]))\n",
    "\n",
    "  py1_add = model.predict(np.array(x1_add))\n",
    "  EntropySum = -np.nansum(py1_add*np.log2(py1_add))\n",
    "  return EntropySum\n",
    "\n",
    "n_test = 2000\n",
    "n_sample = 100\n",
    "entropy_benigh = [0] * n_test\n",
    "entropy_trojan = [0] * n_test\n",
    "# x_poison = [0] * n_test\n",
    "\n",
    "for j in range(n_test):\n",
    "  if 0 == j%1000:\n",
    "    print(j)\n",
    "  x_background = x_train[j+26000] \n",
    "  entropy_benigh[j] = entropyCal(x_background, n_sample)\n",
    "\n",
    "#for agnostic backdoor\n",
    "'''\n",
    "for j in range(n_test):\n",
    "  if 0 == j%1000:\n",
    "    print(j)\n",
    "  x_poison = poison(x_train[j])\n",
    "  entropy_trojan[j] = entropyCal(x_poison, n_sample)\n",
    "'''\n",
    "\n",
    "#for source specific attack\n",
    "k = 0\n",
    "for j in range(14000, x_train.shape[0]):\n",
    "  if (lb_train[j] != 0):\n",
    "    continue\n",
    "  if 0 == k%1000:\n",
    "    print(k)\n",
    "  x_poison = poison(x_train[j])\n",
    "  entropy_trojan[k] = entropyCal(x_poison, n_sample)\n",
    "  k += 1\n",
    "  if k >= n_test:\n",
    "    break\n",
    "\n",
    "entropy_benigh = [x / n_sample for x in entropy_benigh] # get entropy for 2000 clean inputs\n",
    "entropy_trojan = [x / n_sample for x in entropy_trojan] # get entropy for 2000 trojaned inputs"
   ]
  },
  {
   "cell_type": "code",
   "execution_count": 22,
   "metadata": {},
   "outputs": [
    {
     "name": "stdout",
     "output_type": "stream",
     "text": [
      "[0.95  0.995 0.999]\n",
      "[0.1675 0.989  0.9965]\n"
     ]
    }
   ],
   "source": [
    "from sklearn.metrics import roc_curve\n",
    "\n",
    "n_benign = len(entropy_benigh)\n",
    "n_trojan = len(entropy_trojan)\n",
    "ent = np.concatenate((entropy_benigh,entropy_trojan),axis=0)\n",
    "tgt = np.concatenate((np.zeros(n_benign,dtype=np.int32),np.ones(n_trojan,dtype=np.int32)),axis=0)\n",
    "\n",
    "tpr, fpr, _ = roc_curve(tgt,ent)\n",
    "\n",
    "tgt_tpr = [0.95,0.995,0.999]\n",
    "m = len(tgt_tpr)\n",
    "nd_tpr = -np.ones(m)\n",
    "nd_fpr = -np.ones(m)\n",
    "for i in range(len(fpr)):\n",
    "    for j in range(m):\n",
    "        if (tgt_tpr[j] <= tpr[i]) and ((nd_fpr[j] < 0) or (fpr[i] < nd_fpr[j])):\n",
    "            nd_tpr[j] = tpr[i]\n",
    "            nd_fpr[j] = fpr[i]\n",
    "\n",
    "print(nd_tpr)\n",
    "print(nd_fpr)"
   ]
  },
  {
   "cell_type": "code",
   "execution_count": 23,
   "metadata": {
    "colab": {
     "base_uri": "https://localhost:8080/",
     "height": 295
    },
    "colab_type": "code",
    "id": "FWVHBcX-Py1p",
    "outputId": "09bacfc5-1cd1-4895-f102-63adfd4bea2d"
   },
   "outputs": [
    {
     "data": {
      "image/png": "[encoded data removed]",
      "text/plain": [
       "<Figure size 432x288 with 1 Axes>"
      ]
     },
     "metadata": {
      "needs_background": "light"
     },
     "output_type": "display_data"
    }
   ],
   "source": [
    "bins = 30\n",
    "plt.hist(entropy_benigh, bins, weights=np.ones(len(entropy_benigh)) / len(entropy_benigh), alpha=1, label='without trojan')\n",
    "plt.hist(entropy_trojan, bins, weights=np.ones(len(entropy_trojan)) / len(entropy_trojan), alpha=1, label='with trojan')\n",
    "plt.legend(loc='upper right', fontsize = 20)\n",
    "plt.ylabel('Probability (%)', fontsize = 20)\n",
    "plt.title('normalized entropy', fontsize = 20)\n",
    "plt.tick_params(labelsize=20)\n",
    "\n",
    "fig1 = plt.gcf()\n",
    "plt.show()\n",
    "fig1.savefig('EntropyDNNDist_T2.pdf')# save the fig as pdf file\n",
    "#fig1.savefig('EntropyDNNDist_T3.svg')# save the fig as pdf file"
   ]
  },
  {
   "cell_type": "code",
   "execution_count": 24,
   "metadata": {
    "colab": {
     "base_uri": "https://localhost:8080/",
     "height": 295
    },
    "colab_type": "code",
    "id": "RsmCv0rECzKH",
    "outputId": "4ef9fb2b-22a4-4e46-f611-eace34f2b9ea"
   },
   "outputs": [
    {
     "data": {
      "image/png": "[encoded data removed]",
      "text/plain": [
       "<Figure size 432x288 with 1 Axes>"
      ]
     },
     "metadata": {
      "needs_background": "light"
     },
     "output_type": "display_data"
    }
   ],
   "source": [
    "# As trojaned entropy is sometimes too small to be visible. \n",
    "# This is to visulize the entropy distribution of the trojaned inputs under such case.\n",
    "bins = np.linspace(0, max(entropy_trojan), 30)\n",
    "plt.hist(entropy_trojan, bins, weights=np.ones(len(entropy_trojan)) / len(entropy_trojan), alpha=1, label='with trojan')\n",
    "\n",
    "\n",
    "plt.legend(loc='upper right', fontsize = 20)\n",
    "plt.ylabel('Probability (%)', fontsize = 20)\n",
    "plt.title('normalized entropy', fontsize = 20)\n",
    "plt.tick_params(labelsize=20)\n",
    "\n",
    "fig1 = plt.gcf()\n",
    "plt.show()"
   ]
  },
  {
   "cell_type": "code",
   "execution_count": 25,
   "metadata": {
    "colab": {
     "base_uri": "https://localhost:8080/",
     "height": 70
    },
    "colab_type": "code",
    "id": "5HlVwbXPRrJB",
    "outputId": "642adeb0-b9cc-4271-a23d-54a1c0820d5b"
   },
   "outputs": [
    {
     "name": "stdout",
     "output_type": "stream",
     "text": [
      "1.3544714208221436 0.42379998042900563\n",
      "0.3685652373325764\n",
      "89.95\n"
     ]
    }
   ],
   "source": [
    "import scipy\n",
    "import scipy.stats\n",
    "\n",
    "(mu, sigma) = scipy.stats.norm.fit(entropy_benigh)\n",
    "print(mu, sigma)\n",
    "\n",
    "threshold = scipy.stats.norm.ppf(0.01, loc = mu, scale =  sigma) #use a preset FRR of 0.01. This can be \n",
    "print(threshold)\n",
    "\n",
    "FAR = sum(i > threshold for i in entropy_trojan)\n",
    "print(FAR/2000*100) #reproduce results in Table 3 of our paper"
   ]
  },
  {
   "cell_type": "code",
   "execution_count": 26,
   "metadata": {
    "colab": {
     "base_uri": "https://localhost:8080/",
     "height": 52
    },
    "colab_type": "code",
    "id": "HPV8oNScR6lA",
    "outputId": "49078e3d-a49c-4d44-9c2d-25e90433c073"
   },
   "outputs": [
    {
     "name": "stdout",
     "output_type": "stream",
     "text": [
      "0.07958487510681152\n",
      "1.161299591064453\n",
      "cifar10_s0_t7_c12\n"
     ]
    }
   ],
   "source": [
    "min_benign_entropy = min(entropy_benigh)\n",
    "max_trojan_entropy = max(entropy_trojan)\n",
    "\n",
    "print(min_benign_entropy)# check min entropy of clean inputs\n",
    "print(max_trojan_entropy)# check max entropy of trojaned inputs\n",
    "print(model_name)\n"
   ]
  },
  {
   "cell_type": "code",
   "execution_count": 27,
   "metadata": {
    "colab": {},
    "colab_type": "code",
    "id": "sKnwcC3bEXWv"
   },
   "outputs": [
    {
     "name": "stdout",
     "output_type": "stream",
     "text": [
      "Model: \"sequential_2\"\n",
      "_________________________________________________________________\n",
      "Layer (type)                 Output Shape              Param #   \n",
      "=================================================================\n",
      "conv2d_7 (Conv2D)            (None, 32, 32, 32)        896       \n",
      "_________________________________________________________________\n",
      "activation_7 (Activation)    (None, 32, 32, 32)        0         \n",
      "_________________________________________________________________\n",
      "conv2d_8 (Conv2D)            (None, 32, 32, 32)        9248      \n",
      "_________________________________________________________________\n",
      "activation_8 (Activation)    (None, 32, 32, 32)        0         \n",
      "_________________________________________________________________\n",
      "max_pooling2d_4 (MaxPooling2 (None, 16, 16, 32)        0         \n",
      "_________________________________________________________________\n",
      "dropout_5 (Dropout)          (None, 16, 16, 32)        0         \n",
      "_________________________________________________________________\n",
      "conv2d_9 (Conv2D)            (None, 16, 16, 64)        18496     \n",
      "_________________________________________________________________\n",
      "activation_9 (Activation)    (None, 16, 16, 64)        0         \n",
      "_________________________________________________________________\n",
      "conv2d_10 (Conv2D)           (None, 16, 16, 64)        36928     \n",
      "_________________________________________________________________\n",
      "activation_10 (Activation)   (None, 16, 16, 64)        0         \n",
      "_________________________________________________________________\n",
      "max_pooling2d_5 (MaxPooling2 (None, 8, 8, 64)          0         \n",
      "_________________________________________________________________\n",
      "dropout_6 (Dropout)          (None, 8, 8, 64)          0         \n",
      "_________________________________________________________________\n",
      "conv2d_11 (Conv2D)           (None, 8, 8, 128)         73856     \n",
      "_________________________________________________________________\n",
      "activation_11 (Activation)   (None, 8, 8, 128)         0         \n",
      "_________________________________________________________________\n",
      "conv2d_12 (Conv2D)           (None, 8, 8, 128)         147584    \n",
      "_________________________________________________________________\n",
      "activation_12 (Activation)   (None, 8, 8, 128)         0         \n",
      "_________________________________________________________________\n",
      "max_pooling2d_6 (MaxPooling2 (None, 4, 4, 128)         0         \n",
      "_________________________________________________________________\n",
      "dropout_7 (Dropout)          (None, 4, 4, 128)         0         \n",
      "_________________________________________________________________\n",
      "flatten_2 (Flatten)          (None, 2048)              0         \n",
      "_________________________________________________________________\n",
      "dense_3 (Dense)              (None, 256)               524544    \n",
      "=================================================================\n",
      "Total params: 811,552\n",
      "Trainable params: 811,552\n",
      "Non-trainable params: 0\n",
      "_________________________________________________________________\n"
     ]
    }
   ],
   "source": [
    "import math\n",
    "import random\n",
    "import numpy as np\n",
    "import time\n",
    "import scipy\n",
    "  \n",
    "model = build_model(with_softmax=False)\n",
    "model.load_weights(model_name+'.weights',by_name=True)\n",
    "\n",
    "n_test = 2000;\n",
    "x_benign = x_train[26000+0:26000+n_test]\n",
    "x_trojan = x_train[14000+0:14000+2000]\n",
    "lb_benign = lb_train[26000+0:26000+2000]\n",
    "lb_trojan = lb_train[14000+0:14000+2000]\n",
    "lb_poison = np.ones((n_test,1),dtype=np.uint8)*7;\n",
    "\n",
    "for j in range(n_test):\n",
    "  x_benign[j] = x_train[j+26000] \n",
    "  lb_benign[j] = lb_train[j]\n",
    "\n",
    "k = 0\n",
    "for j in range(14000, x_train.shape[0]):\n",
    "  if (lb_train[j] != 0):\n",
    "    continue\n",
    "  x_poison = poison(x_train[j])\n",
    "  x_trojan[k] = x_poison\n",
    "  lb_trojan[k] = lb_train[j]\n",
    "  k += 1\n",
    "  if k >= n_test:\n",
    "    break\n",
    "\n",
    "\n",
    "benign_features = model.predict(x_benign)\n",
    "trojan_features = model.predict(x_trojan)\n",
    "test_features = np.concatenate((benign_features,trojan_features),axis=0)\n",
    "test_lb_ori = np.concatenate((lb_benign,lb_trojan),axis=0)\n",
    "test_lb = np.concatenate((lb_benign,lb_poison),axis=0)\n",
    "\n",
    "prefix = model_name+\"_test\"\n",
    "np.save(prefix+\"_X\",test_features);\n",
    "np.save(prefix+\"_labels\",test_lb);\n",
    "np.save(prefix+\"_ori_labels\",test_lb_ori);\n",
    "\n",
    "n_train = x_train.shape[0]\n",
    "n_clean = 500\n",
    "idx = np.random.permutation(n_train)\n",
    "idx = idx[0:n_clean]\n",
    "x_clean = x_train[idx];\n",
    "clean_lb = lb_train[idx];\n",
    "clean_features = model.predict(x_clean);\n",
    "\n",
    "prefix = model_name+\"_clean\"\n",
    "np.save(prefix+\"_X\",clean_features);\n",
    "np.save(prefix+\"_labels\",clean_lb);\n",
    "np.save(prefix+\"_ori_labels\",clean_lb);"
   ]
  }
 ],
 "metadata": {
  "accelerator": "GPU",
  "colab": {
   "collapsed_sections": [],
   "include_colab_link": true,
   "name": "STRIP_CIFAR10DeepArchit_Tb.ipynb",
   "provenance": [],
   "version": "0.3.2"
  },
  "kernelspec": {
   "display_name": "tf2.2-py3",
   "language": "python",
   "name": "tf2.2-py3"
  },
  "language_info": {
   "codemirror_mode": {
    "name": "ipython",
    "version": 3
   },
   "file_extension": ".py",
   "mimetype": "text/x-python",
   "name": "python",
   "nbconvert_exporter": "python",
   "pygments_lexer": "ipython3",
   "version": "3.6.9"
  }
 },
 "nbformat": 4,
 "nbformat_minor": 1
}
